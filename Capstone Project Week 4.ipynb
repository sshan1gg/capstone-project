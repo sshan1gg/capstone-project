{
 "cells": [
  {
   "cell_type": "markdown",
   "metadata": {
    "collapsed": true
   },
   "source": [
    "# Capstone Final Project"
   ]
  },
  {
   "cell_type": "markdown",
   "metadata": {},
   "source": [
    "### Shan Shan"
   ]
  },
  {
   "cell_type": "markdown",
   "metadata": {},
   "source": [
    "## Introduction"
   ]
  },
  {
   "attachments": {},
   "cell_type": "markdown",
   "metadata": {},
   "source": [
    "In this project, I would like to focus on the research question: is it a good idea to open an Asian restaurant near Haverford College, a liberal arts college near Philadelphia? The audience of my project will be people who are interested in opening an Asian restaurant in that area. I will look into existing Asian restaurants near Haverford College and draw insights on the competitiveness of the business."
   ]
  },
  {
   "cell_type": "markdown",
   "metadata": {},
   "source": [
    "## Methodology"
   ]
  },
  {
   "attachments": {},
   "cell_type": "markdown",
   "metadata": {},
   "source": [
    "I will use Foursquare to obtain information on Asian restaurants close to Haverford College. I am interested in the specialty of those restaurants, their distances from Haverford College, as well as their customer ratings and tips."
   ]
  },
  {
   "cell_type": "markdown",
   "metadata": {},
   "source": [
    "## Analysis"
   ]
  },
  {
   "cell_type": "code",
   "execution_count": 1,
   "metadata": {
    "scrolled": true
   },
   "outputs": [
    {
     "name": "stdout",
     "output_type": "stream",
     "text": [
      "Solving environment: done\n",
      "\n",
      "## Package Plan ##\n",
      "\n",
      "  environment location: /opt/conda/envs/Python36\n",
      "\n",
      "  added / updated specs: \n",
      "    - geopy\n",
      "\n",
      "\n",
      "The following packages will be downloaded:\n",
      "\n",
      "    package                    |            build\n",
      "    ---------------------------|-----------------\n",
      "    geopy-1.21.0               |             py_0          58 KB  conda-forge\n",
      "    ca-certificates-2020.4.5.1 |       hecc5488_0         146 KB  conda-forge\n",
      "    openssl-1.1.1f             |       h516909a_0         2.1 MB  conda-forge\n",
      "    geographiclib-1.50         |             py_0          34 KB  conda-forge\n",
      "    python_abi-3.6             |          1_cp36m           4 KB  conda-forge\n",
      "    certifi-2020.4.5.1         |   py36h9f0ad1d_0         151 KB  conda-forge\n",
      "    ------------------------------------------------------------\n",
      "                                           Total:         2.5 MB\n",
      "\n",
      "The following NEW packages will be INSTALLED:\n",
      "\n",
      "    geographiclib:   1.50-py_0         conda-forge\n",
      "    geopy:           1.21.0-py_0       conda-forge\n",
      "    python_abi:      3.6-1_cp36m       conda-forge\n",
      "\n",
      "The following packages will be UPDATED:\n",
      "\n",
      "    ca-certificates: 2020.1.1-0                    --> 2020.4.5.1-hecc5488_0     conda-forge\n",
      "    certifi:         2019.11.28-py36_0             --> 2020.4.5.1-py36h9f0ad1d_0 conda-forge\n",
      "    openssl:         1.1.1e-h7b6447c_0             --> 1.1.1f-h516909a_0         conda-forge\n",
      "\n",
      "\n",
      "Downloading and Extracting Packages\n",
      "geopy-1.21.0         | 58 KB     | ##################################### | 100% \n",
      "ca-certificates-2020 | 146 KB    | ##################################### | 100% \n",
      "openssl-1.1.1f       | 2.1 MB    | ##################################### | 100% \n",
      "geographiclib-1.50   | 34 KB     | ##################################### | 100% \n",
      "python_abi-3.6       | 4 KB      | ##################################### | 100% \n",
      "certifi-2020.4.5.1   | 151 KB    | ##################################### | 100% \n",
      "Preparing transaction: done\n",
      "Verifying transaction: done\n",
      "Executing transaction: done\n",
      "Solving environment: done\n",
      "\n",
      "## Package Plan ##\n",
      "\n",
      "  environment location: /opt/conda/envs/Python36\n",
      "\n",
      "  added / updated specs: \n",
      "    - folium=0.5.0\n",
      "\n",
      "\n",
      "The following packages will be downloaded:\n",
      "\n",
      "    package                    |            build\n",
      "    ---------------------------|-----------------\n",
      "    branca-0.4.0               |             py_0          26 KB  conda-forge\n",
      "    vincent-0.4.4              |             py_1          28 KB  conda-forge\n",
      "    altair-4.1.0               |             py_1         614 KB  conda-forge\n",
      "    folium-0.5.0               |             py_0          45 KB  conda-forge\n",
      "    ------------------------------------------------------------\n",
      "                                           Total:         713 KB\n",
      "\n",
      "The following NEW packages will be INSTALLED:\n",
      "\n",
      "    altair:  4.1.0-py_1 conda-forge\n",
      "    branca:  0.4.0-py_0 conda-forge\n",
      "    folium:  0.5.0-py_0 conda-forge\n",
      "    vincent: 0.4.4-py_1 conda-forge\n",
      "\n",
      "\n",
      "Downloading and Extracting Packages\n",
      "branca-0.4.0         | 26 KB     | ##################################### | 100% \n",
      "vincent-0.4.4        | 28 KB     | ##################################### | 100% \n",
      "altair-4.1.0         | 614 KB    | ##################################### | 100% \n",
      "folium-0.5.0         | 45 KB     | ##################################### | 100% \n",
      "Preparing transaction: done\n",
      "Verifying transaction: done\n",
      "Executing transaction: done\n",
      "Folium installed\n",
      "Libraries imported.\n"
     ]
    }
   ],
   "source": [
    "import requests # library to handle requests\n",
    "import pandas as pd # library for data analsysis\n",
    "import numpy as np # library to handle data in a vectorized manner\n",
    "import random # library for random number generation\n",
    "\n",
    "!conda install -c conda-forge geopy --yes \n",
    "from geopy.geocoders import Nominatim # module to convert an address into latitude and longitude values\n",
    "\n",
    "# libraries for displaying images\n",
    "from IPython.display import Image \n",
    "from IPython.core.display import HTML \n",
    "    \n",
    "# tranforming json file into a pandas dataframe library\n",
    "from pandas.io.json import json_normalize\n",
    "\n",
    "!conda install -c conda-forge folium=0.5.0 --yes\n",
    "import folium # plotting library\n",
    "\n",
    "print('Folium installed')\n",
    "print('Libraries imported.')"
   ]
  },
  {
   "cell_type": "markdown",
   "metadata": {},
   "source": [
    "1.Search Asian restaurants near Haverford College using Foursquare"
   ]
  },
  {
   "cell_type": "code",
   "execution_count": 12,
   "metadata": {},
   "outputs": [
    {
     "name": "stdout",
     "output_type": "stream",
     "text": [
      "Your credentails:\n",
      "CLIENT_ID: KZPVQI2W3LBOGNMABMXSTBDEOOF43ZF1NB3IWIT3V32LQEFC\n",
      "CLIENT_SECRET:TV2O3DOFED2BOXJOJFZGXVTKDXC4JE1RKQZPGWYMFXMFRVBW\n"
     ]
    }
   ],
   "source": [
    "CLIENT_ID = 'KZPVQI2W3LBOGNMABMXSTBDEOOF43ZF1NB3IWIT3V32LQEFC' # your Foursquare ID\n",
    "CLIENT_SECRET = 'TV2O3DOFED2BOXJOJFZGXVTKDXC4JE1RKQZPGWYMFXMFRVBW' # your Foursquare Secret\n",
    "VERSION = '20180605'\n",
    "LIMIT = 30\n",
    "print('Your credentails:')\n",
    "print('CLIENT_ID: ' + CLIENT_ID)\n",
    "print('CLIENT_SECRET:' + CLIENT_SECRET)"
   ]
  },
  {
   "cell_type": "code",
   "execution_count": 13,
   "metadata": {},
   "outputs": [
    {
     "name": "stdout",
     "output_type": "stream",
     "text": [
      "40.01203066666667 -75.29943733333333\n"
     ]
    }
   ],
   "source": [
    "address = '370 Lancaster Ave, Haverford, PA' #address of Haverford College\n",
    "\n",
    "geolocator = Nominatim(user_agent=\"foursquare_agent\")\n",
    "location = geolocator.geocode(address)\n",
    "latitude = location.latitude\n",
    "longitude = location.longitude\n",
    "print(latitude, longitude)"
   ]
  },
  {
   "cell_type": "code",
   "execution_count": 26,
   "metadata": {},
   "outputs": [
    {
     "name": "stdout",
     "output_type": "stream",
     "text": [
      "Asian .... OK!\n"
     ]
    }
   ],
   "source": [
    "search_query = 'Asian'\n",
    "radius = 2000\n",
    "print(search_query + ' .... OK!')"
   ]
  },
  {
   "cell_type": "code",
   "execution_count": 27,
   "metadata": {},
   "outputs": [
    {
     "data": {
      "text/plain": [
       "'https://api.foursquare.com/v2/venues/search?client_id=KZPVQI2W3LBOGNMABMXSTBDEOOF43ZF1NB3IWIT3V32LQEFC&client_secret=TV2O3DOFED2BOXJOJFZGXVTKDXC4JE1RKQZPGWYMFXMFRVBW&ll=40.01203066666667,-75.29943733333333&v=20180605&query=Asian&radius=2000&limit=30'"
      ]
     },
     "execution_count": 27,
     "metadata": {},
     "output_type": "execute_result"
    }
   ],
   "source": [
    "url = 'https://api.foursquare.com/v2/venues/search?client_id={}&client_secret={}&ll={},{}&v={}&query={}&radius={}&limit={}'.format(CLIENT_ID, CLIENT_SECRET, latitude, longitude, VERSION, search_query, radius, LIMIT)\n",
    "url"
   ]
  },
  {
   "cell_type": "code",
   "execution_count": 28,
   "metadata": {},
   "outputs": [
    {
     "data": {
      "text/plain": [
       "{'meta': {'code': 200, 'requestId': '5e980c7269babe001bcf8216'},\n",
       " 'response': {'venues': [{'id': '4ad750a6f964a5206c0921e3',\n",
       "    'name': 'Sang Kee Asian Bistro',\n",
       "    'location': {'address': '339 E Lancaster Ave',\n",
       "     'crossStreet': 'at Wynnewood Rd',\n",
       "     'lat': 40.00228441485172,\n",
       "     'lng': -75.27732710357678,\n",
       "     'labeledLatLngs': [{'label': 'display',\n",
       "       'lat': 40.00228441485172,\n",
       "       'lng': -75.27732710357678}],\n",
       "     'distance': 2175,\n",
       "     'postalCode': '19096',\n",
       "     'cc': 'US',\n",
       "     'city': 'Wynnewood',\n",
       "     'state': 'PA',\n",
       "     'country': 'United States',\n",
       "     'formattedAddress': ['339 E Lancaster Ave (at Wynnewood Rd)',\n",
       "      'Wynnewood, PA 19096',\n",
       "      'United States']},\n",
       "    'categories': [{'id': '4bf58dd8d48988d142941735',\n",
       "      'name': 'Asian Restaurant',\n",
       "      'pluralName': 'Asian Restaurants',\n",
       "      'shortName': 'Asian',\n",
       "      'icon': {'prefix': 'https://ss3.4sqi.net/img/categories_v2/food/asian_',\n",
       "       'suffix': '.png'},\n",
       "      'primary': True}],\n",
       "    'referralId': 'v-1587023053',\n",
       "    'hasPerk': False},\n",
       "   {'id': '4ddc126ec65bfd579e0abd65',\n",
       "    'name': 'Asian Box Ardmore Farmers Market',\n",
       "    'location': {'address': '110 Coulter Ave',\n",
       "     'crossStreet': 'at Ardmore Farmers Market',\n",
       "     'lat': 40.007521,\n",
       "     'lng': -75.28617,\n",
       "     'labeledLatLngs': [{'label': 'display',\n",
       "       'lat': 40.007521,\n",
       "       'lng': -75.28617}],\n",
       "     'distance': 1237,\n",
       "     'postalCode': '19003',\n",
       "     'cc': 'US',\n",
       "     'city': 'Ardmore',\n",
       "     'state': 'PA',\n",
       "     'country': 'United States',\n",
       "     'formattedAddress': ['110 Coulter Ave (at Ardmore Farmers Market)',\n",
       "      'Ardmore, PA 19003',\n",
       "      'United States']},\n",
       "    'categories': [{'id': '4bf58dd8d48988d142941735',\n",
       "      'name': 'Asian Restaurant',\n",
       "      'pluralName': 'Asian Restaurants',\n",
       "      'shortName': 'Asian',\n",
       "      'icon': {'prefix': 'https://ss3.4sqi.net/img/categories_v2/food/asian_',\n",
       "       'suffix': '.png'},\n",
       "      'primary': True}],\n",
       "    'referralId': 'v-1587023053',\n",
       "    'hasPerk': False},\n",
       "   {'id': '4f3217d819836c91c7b519b5',\n",
       "    'name': 'Thai-Asian Specialty',\n",
       "    'location': {'address': '120 Coulter Ave',\n",
       "     'lat': 40.007899,\n",
       "     'lng': -75.286434,\n",
       "     'labeledLatLngs': [{'label': 'display',\n",
       "       'lat': 40.007899,\n",
       "       'lng': -75.286434}],\n",
       "     'distance': 1200,\n",
       "     'postalCode': '19003',\n",
       "     'cc': 'US',\n",
       "     'city': 'Ardmore',\n",
       "     'state': 'PA',\n",
       "     'country': 'United States',\n",
       "     'formattedAddress': ['120 Coulter Ave',\n",
       "      'Ardmore, PA 19003',\n",
       "      'United States']},\n",
       "    'categories': [{'id': '4d4b7105d754a06374d81259',\n",
       "      'name': 'Food',\n",
       "      'pluralName': 'Food',\n",
       "      'shortName': 'Food',\n",
       "      'icon': {'prefix': 'https://ss3.4sqi.net/img/categories_v2/food/default_',\n",
       "       'suffix': '.png'},\n",
       "      'primary': True}],\n",
       "    'referralId': 'v-1587023053',\n",
       "    'hasPerk': False},\n",
       "   {'id': '5cd89175c876c8002c9c4189',\n",
       "    'name': 'Green Papaya Asian Bistro',\n",
       "    'location': {'address': '202 E Lancaster Ave',\n",
       "     'lat': 40.005085,\n",
       "     'lng': -75.285764,\n",
       "     'labeledLatLngs': [{'label': 'display',\n",
       "       'lat': 40.005085,\n",
       "       'lng': -75.285764}],\n",
       "     'distance': 1398,\n",
       "     'postalCode': '19003',\n",
       "     'cc': 'US',\n",
       "     'city': 'Ardmore',\n",
       "     'state': 'PA',\n",
       "     'country': 'United States',\n",
       "     'formattedAddress': ['202 E Lancaster Ave',\n",
       "      'Ardmore, PA 19003',\n",
       "      'United States']},\n",
       "    'categories': [{'id': '4bf58dd8d48988d149941735',\n",
       "      'name': 'Thai Restaurant',\n",
       "      'pluralName': 'Thai Restaurants',\n",
       "      'shortName': 'Thai',\n",
       "      'icon': {'prefix': 'https://ss3.4sqi.net/img/categories_v2/food/thai_',\n",
       "       'suffix': '.png'},\n",
       "      'primary': True}],\n",
       "    'referralId': 'v-1587023053',\n",
       "    'hasPerk': False}]}}"
      ]
     },
     "execution_count": 28,
     "metadata": {},
     "output_type": "execute_result"
    }
   ],
   "source": [
    "results = requests.get(url).json()\n",
    "results"
   ]
  },
  {
   "cell_type": "code",
   "execution_count": 29,
   "metadata": {},
   "outputs": [
    {
     "data": {
      "text/html": [
       "<div>\n",
       "<style scoped>\n",
       "    .dataframe tbody tr th:only-of-type {\n",
       "        vertical-align: middle;\n",
       "    }\n",
       "\n",
       "    .dataframe tbody tr th {\n",
       "        vertical-align: top;\n",
       "    }\n",
       "\n",
       "    .dataframe thead th {\n",
       "        text-align: right;\n",
       "    }\n",
       "</style>\n",
       "<table border=\"1\" class=\"dataframe\">\n",
       "  <thead>\n",
       "    <tr style=\"text-align: right;\">\n",
       "      <th></th>\n",
       "      <th>categories</th>\n",
       "      <th>hasPerk</th>\n",
       "      <th>id</th>\n",
       "      <th>location.address</th>\n",
       "      <th>location.cc</th>\n",
       "      <th>location.city</th>\n",
       "      <th>location.country</th>\n",
       "      <th>location.crossStreet</th>\n",
       "      <th>location.distance</th>\n",
       "      <th>location.formattedAddress</th>\n",
       "      <th>location.labeledLatLngs</th>\n",
       "      <th>location.lat</th>\n",
       "      <th>location.lng</th>\n",
       "      <th>location.postalCode</th>\n",
       "      <th>location.state</th>\n",
       "      <th>name</th>\n",
       "      <th>referralId</th>\n",
       "    </tr>\n",
       "  </thead>\n",
       "  <tbody>\n",
       "    <tr>\n",
       "      <th>0</th>\n",
       "      <td>[{'id': '4bf58dd8d48988d142941735', 'name': 'A...</td>\n",
       "      <td>False</td>\n",
       "      <td>4ad750a6f964a5206c0921e3</td>\n",
       "      <td>339 E Lancaster Ave</td>\n",
       "      <td>US</td>\n",
       "      <td>Wynnewood</td>\n",
       "      <td>United States</td>\n",
       "      <td>at Wynnewood Rd</td>\n",
       "      <td>2175</td>\n",
       "      <td>[339 E Lancaster Ave (at Wynnewood Rd), Wynnew...</td>\n",
       "      <td>[{'label': 'display', 'lat': 40.00228441485172...</td>\n",
       "      <td>40.002284</td>\n",
       "      <td>-75.277327</td>\n",
       "      <td>19096</td>\n",
       "      <td>PA</td>\n",
       "      <td>Sang Kee Asian Bistro</td>\n",
       "      <td>v-1587023053</td>\n",
       "    </tr>\n",
       "    <tr>\n",
       "      <th>1</th>\n",
       "      <td>[{'id': '4bf58dd8d48988d142941735', 'name': 'A...</td>\n",
       "      <td>False</td>\n",
       "      <td>4ddc126ec65bfd579e0abd65</td>\n",
       "      <td>110 Coulter Ave</td>\n",
       "      <td>US</td>\n",
       "      <td>Ardmore</td>\n",
       "      <td>United States</td>\n",
       "      <td>at Ardmore Farmers Market</td>\n",
       "      <td>1237</td>\n",
       "      <td>[110 Coulter Ave (at Ardmore Farmers Market), ...</td>\n",
       "      <td>[{'label': 'display', 'lat': 40.007521, 'lng':...</td>\n",
       "      <td>40.007521</td>\n",
       "      <td>-75.286170</td>\n",
       "      <td>19003</td>\n",
       "      <td>PA</td>\n",
       "      <td>Asian Box Ardmore Farmers Market</td>\n",
       "      <td>v-1587023053</td>\n",
       "    </tr>\n",
       "    <tr>\n",
       "      <th>2</th>\n",
       "      <td>[{'id': '4d4b7105d754a06374d81259', 'name': 'F...</td>\n",
       "      <td>False</td>\n",
       "      <td>4f3217d819836c91c7b519b5</td>\n",
       "      <td>120 Coulter Ave</td>\n",
       "      <td>US</td>\n",
       "      <td>Ardmore</td>\n",
       "      <td>United States</td>\n",
       "      <td>NaN</td>\n",
       "      <td>1200</td>\n",
       "      <td>[120 Coulter Ave, Ardmore, PA 19003, United St...</td>\n",
       "      <td>[{'label': 'display', 'lat': 40.007899, 'lng':...</td>\n",
       "      <td>40.007899</td>\n",
       "      <td>-75.286434</td>\n",
       "      <td>19003</td>\n",
       "      <td>PA</td>\n",
       "      <td>Thai-Asian Specialty</td>\n",
       "      <td>v-1587023053</td>\n",
       "    </tr>\n",
       "    <tr>\n",
       "      <th>3</th>\n",
       "      <td>[{'id': '4bf58dd8d48988d149941735', 'name': 'T...</td>\n",
       "      <td>False</td>\n",
       "      <td>5cd89175c876c8002c9c4189</td>\n",
       "      <td>202 E Lancaster Ave</td>\n",
       "      <td>US</td>\n",
       "      <td>Ardmore</td>\n",
       "      <td>United States</td>\n",
       "      <td>NaN</td>\n",
       "      <td>1398</td>\n",
       "      <td>[202 E Lancaster Ave, Ardmore, PA 19003, Unite...</td>\n",
       "      <td>[{'label': 'display', 'lat': 40.005085, 'lng':...</td>\n",
       "      <td>40.005085</td>\n",
       "      <td>-75.285764</td>\n",
       "      <td>19003</td>\n",
       "      <td>PA</td>\n",
       "      <td>Green Papaya Asian Bistro</td>\n",
       "      <td>v-1587023053</td>\n",
       "    </tr>\n",
       "  </tbody>\n",
       "</table>\n",
       "</div>"
      ],
      "text/plain": [
       "                                          categories  hasPerk  \\\n",
       "0  [{'id': '4bf58dd8d48988d142941735', 'name': 'A...    False   \n",
       "1  [{'id': '4bf58dd8d48988d142941735', 'name': 'A...    False   \n",
       "2  [{'id': '4d4b7105d754a06374d81259', 'name': 'F...    False   \n",
       "3  [{'id': '4bf58dd8d48988d149941735', 'name': 'T...    False   \n",
       "\n",
       "                         id     location.address location.cc location.city  \\\n",
       "0  4ad750a6f964a5206c0921e3  339 E Lancaster Ave          US     Wynnewood   \n",
       "1  4ddc126ec65bfd579e0abd65      110 Coulter Ave          US       Ardmore   \n",
       "2  4f3217d819836c91c7b519b5      120 Coulter Ave          US       Ardmore   \n",
       "3  5cd89175c876c8002c9c4189  202 E Lancaster Ave          US       Ardmore   \n",
       "\n",
       "  location.country       location.crossStreet  location.distance  \\\n",
       "0    United States            at Wynnewood Rd               2175   \n",
       "1    United States  at Ardmore Farmers Market               1237   \n",
       "2    United States                        NaN               1200   \n",
       "3    United States                        NaN               1398   \n",
       "\n",
       "                           location.formattedAddress  \\\n",
       "0  [339 E Lancaster Ave (at Wynnewood Rd), Wynnew...   \n",
       "1  [110 Coulter Ave (at Ardmore Farmers Market), ...   \n",
       "2  [120 Coulter Ave, Ardmore, PA 19003, United St...   \n",
       "3  [202 E Lancaster Ave, Ardmore, PA 19003, Unite...   \n",
       "\n",
       "                             location.labeledLatLngs  location.lat  \\\n",
       "0  [{'label': 'display', 'lat': 40.00228441485172...     40.002284   \n",
       "1  [{'label': 'display', 'lat': 40.007521, 'lng':...     40.007521   \n",
       "2  [{'label': 'display', 'lat': 40.007899, 'lng':...     40.007899   \n",
       "3  [{'label': 'display', 'lat': 40.005085, 'lng':...     40.005085   \n",
       "\n",
       "   location.lng location.postalCode location.state  \\\n",
       "0    -75.277327               19096             PA   \n",
       "1    -75.286170               19003             PA   \n",
       "2    -75.286434               19003             PA   \n",
       "3    -75.285764               19003             PA   \n",
       "\n",
       "                               name    referralId  \n",
       "0             Sang Kee Asian Bistro  v-1587023053  \n",
       "1  Asian Box Ardmore Farmers Market  v-1587023053  \n",
       "2              Thai-Asian Specialty  v-1587023053  \n",
       "3         Green Papaya Asian Bistro  v-1587023053  "
      ]
     },
     "execution_count": 29,
     "metadata": {},
     "output_type": "execute_result"
    }
   ],
   "source": [
    "venues = results['response']['venues']\n",
    "\n",
    "dataframe = json_normalize(venues)\n",
    "dataframe.head()"
   ]
  },
  {
   "cell_type": "code",
   "execution_count": 30,
   "metadata": {},
   "outputs": [
    {
     "data": {
      "text/html": [
       "<div>\n",
       "<style scoped>\n",
       "    .dataframe tbody tr th:only-of-type {\n",
       "        vertical-align: middle;\n",
       "    }\n",
       "\n",
       "    .dataframe tbody tr th {\n",
       "        vertical-align: top;\n",
       "    }\n",
       "\n",
       "    .dataframe thead th {\n",
       "        text-align: right;\n",
       "    }\n",
       "</style>\n",
       "<table border=\"1\" class=\"dataframe\">\n",
       "  <thead>\n",
       "    <tr style=\"text-align: right;\">\n",
       "      <th></th>\n",
       "      <th>name</th>\n",
       "      <th>categories</th>\n",
       "      <th>address</th>\n",
       "      <th>cc</th>\n",
       "      <th>city</th>\n",
       "      <th>country</th>\n",
       "      <th>crossStreet</th>\n",
       "      <th>distance</th>\n",
       "      <th>formattedAddress</th>\n",
       "      <th>labeledLatLngs</th>\n",
       "      <th>lat</th>\n",
       "      <th>lng</th>\n",
       "      <th>postalCode</th>\n",
       "      <th>state</th>\n",
       "      <th>id</th>\n",
       "    </tr>\n",
       "  </thead>\n",
       "  <tbody>\n",
       "    <tr>\n",
       "      <th>0</th>\n",
       "      <td>Sang Kee Asian Bistro</td>\n",
       "      <td>Asian Restaurant</td>\n",
       "      <td>339 E Lancaster Ave</td>\n",
       "      <td>US</td>\n",
       "      <td>Wynnewood</td>\n",
       "      <td>United States</td>\n",
       "      <td>at Wynnewood Rd</td>\n",
       "      <td>2175</td>\n",
       "      <td>[339 E Lancaster Ave (at Wynnewood Rd), Wynnew...</td>\n",
       "      <td>[{'label': 'display', 'lat': 40.00228441485172...</td>\n",
       "      <td>40.002284</td>\n",
       "      <td>-75.277327</td>\n",
       "      <td>19096</td>\n",
       "      <td>PA</td>\n",
       "      <td>4ad750a6f964a5206c0921e3</td>\n",
       "    </tr>\n",
       "    <tr>\n",
       "      <th>1</th>\n",
       "      <td>Asian Box Ardmore Farmers Market</td>\n",
       "      <td>Asian Restaurant</td>\n",
       "      <td>110 Coulter Ave</td>\n",
       "      <td>US</td>\n",
       "      <td>Ardmore</td>\n",
       "      <td>United States</td>\n",
       "      <td>at Ardmore Farmers Market</td>\n",
       "      <td>1237</td>\n",
       "      <td>[110 Coulter Ave (at Ardmore Farmers Market), ...</td>\n",
       "      <td>[{'label': 'display', 'lat': 40.007521, 'lng':...</td>\n",
       "      <td>40.007521</td>\n",
       "      <td>-75.286170</td>\n",
       "      <td>19003</td>\n",
       "      <td>PA</td>\n",
       "      <td>4ddc126ec65bfd579e0abd65</td>\n",
       "    </tr>\n",
       "    <tr>\n",
       "      <th>2</th>\n",
       "      <td>Thai-Asian Specialty</td>\n",
       "      <td>Food</td>\n",
       "      <td>120 Coulter Ave</td>\n",
       "      <td>US</td>\n",
       "      <td>Ardmore</td>\n",
       "      <td>United States</td>\n",
       "      <td>NaN</td>\n",
       "      <td>1200</td>\n",
       "      <td>[120 Coulter Ave, Ardmore, PA 19003, United St...</td>\n",
       "      <td>[{'label': 'display', 'lat': 40.007899, 'lng':...</td>\n",
       "      <td>40.007899</td>\n",
       "      <td>-75.286434</td>\n",
       "      <td>19003</td>\n",
       "      <td>PA</td>\n",
       "      <td>4f3217d819836c91c7b519b5</td>\n",
       "    </tr>\n",
       "    <tr>\n",
       "      <th>3</th>\n",
       "      <td>Green Papaya Asian Bistro</td>\n",
       "      <td>Thai Restaurant</td>\n",
       "      <td>202 E Lancaster Ave</td>\n",
       "      <td>US</td>\n",
       "      <td>Ardmore</td>\n",
       "      <td>United States</td>\n",
       "      <td>NaN</td>\n",
       "      <td>1398</td>\n",
       "      <td>[202 E Lancaster Ave, Ardmore, PA 19003, Unite...</td>\n",
       "      <td>[{'label': 'display', 'lat': 40.005085, 'lng':...</td>\n",
       "      <td>40.005085</td>\n",
       "      <td>-75.285764</td>\n",
       "      <td>19003</td>\n",
       "      <td>PA</td>\n",
       "      <td>5cd89175c876c8002c9c4189</td>\n",
       "    </tr>\n",
       "  </tbody>\n",
       "</table>\n",
       "</div>"
      ],
      "text/plain": [
       "                               name        categories              address  \\\n",
       "0             Sang Kee Asian Bistro  Asian Restaurant  339 E Lancaster Ave   \n",
       "1  Asian Box Ardmore Farmers Market  Asian Restaurant      110 Coulter Ave   \n",
       "2              Thai-Asian Specialty              Food      120 Coulter Ave   \n",
       "3         Green Papaya Asian Bistro   Thai Restaurant  202 E Lancaster Ave   \n",
       "\n",
       "   cc       city        country                crossStreet  distance  \\\n",
       "0  US  Wynnewood  United States            at Wynnewood Rd      2175   \n",
       "1  US    Ardmore  United States  at Ardmore Farmers Market      1237   \n",
       "2  US    Ardmore  United States                        NaN      1200   \n",
       "3  US    Ardmore  United States                        NaN      1398   \n",
       "\n",
       "                                    formattedAddress  \\\n",
       "0  [339 E Lancaster Ave (at Wynnewood Rd), Wynnew...   \n",
       "1  [110 Coulter Ave (at Ardmore Farmers Market), ...   \n",
       "2  [120 Coulter Ave, Ardmore, PA 19003, United St...   \n",
       "3  [202 E Lancaster Ave, Ardmore, PA 19003, Unite...   \n",
       "\n",
       "                                      labeledLatLngs        lat        lng  \\\n",
       "0  [{'label': 'display', 'lat': 40.00228441485172...  40.002284 -75.277327   \n",
       "1  [{'label': 'display', 'lat': 40.007521, 'lng':...  40.007521 -75.286170   \n",
       "2  [{'label': 'display', 'lat': 40.007899, 'lng':...  40.007899 -75.286434   \n",
       "3  [{'label': 'display', 'lat': 40.005085, 'lng':...  40.005085 -75.285764   \n",
       "\n",
       "  postalCode state                        id  \n",
       "0      19096    PA  4ad750a6f964a5206c0921e3  \n",
       "1      19003    PA  4ddc126ec65bfd579e0abd65  \n",
       "2      19003    PA  4f3217d819836c91c7b519b5  \n",
       "3      19003    PA  5cd89175c876c8002c9c4189  "
      ]
     },
     "execution_count": 30,
     "metadata": {},
     "output_type": "execute_result"
    }
   ],
   "source": [
    "filtered_columns = ['name', 'categories'] + [col for col in dataframe.columns if col.startswith('location.')] + ['id']\n",
    "dataframe_filtered = dataframe.loc[:, filtered_columns]\n",
    "\n",
    "def get_category_type(row):\n",
    "    try:\n",
    "        categories_list = row['categories']\n",
    "    except:\n",
    "        categories_list = row['venue.categories']\n",
    "        \n",
    "    if len(categories_list) == 0:\n",
    "        return None\n",
    "    else:\n",
    "        return categories_list[0]['name']\n",
    "\n",
    "dataframe_filtered['categories'] = dataframe_filtered.apply(get_category_type, axis=1)\n",
    "\n",
    "dataframe_filtered.columns = [column.split('.')[-1] for column in dataframe_filtered.columns]\n",
    "\n",
    "dataframe_filtered"
   ]
  },
  {
   "cell_type": "code",
   "execution_count": 31,
   "metadata": {},
   "outputs": [
    {
     "data": {
      "text/plain": [
       "0               Sang Kee Asian Bistro\n",
       "1    Asian Box Ardmore Farmers Market\n",
       "2                Thai-Asian Specialty\n",
       "3           Green Papaya Asian Bistro\n",
       "Name: name, dtype: object"
      ]
     },
     "execution_count": 31,
     "metadata": {},
     "output_type": "execute_result"
    }
   ],
   "source": [
    "dataframe_filtered.name"
   ]
  },
  {
   "cell_type": "code",
   "execution_count": 32,
   "metadata": {},
   "outputs": [
    {
     "data": {
      "text/html": [
       "<div style=\"width:100%;\"><div style=\"position:relative;width:100%;height:0;padding-bottom:60%;\"><iframe src=\"about:blank\" style=\"position:absolute;width:100%;height:100%;left:0;top:0;border:none !important;\" data-html=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 onload=\"this.contentDocument.open();this.contentDocument.write(atob(this.getAttribute('data-html')));this.contentDocument.close();\" allowfullscreen webkitallowfullscreen mozallowfullscreen></iframe></div></div>"
      ],
      "text/plain": [
       "<folium.folium.Map at 0x7f9b6f1dd0f0>"
      ]
     },
     "execution_count": 32,
     "metadata": {},
     "output_type": "execute_result"
    }
   ],
   "source": [
    "venues_map = folium.Map(location=[latitude, longitude], zoom_start=13) # generate map centred around the Conrad Hotel\n",
    "\n",
    "# add a red circle marker to represent the Conrad Hotel\n",
    "folium.features.CircleMarker(\n",
    "    [latitude, longitude],\n",
    "    radius=10,\n",
    "    color='red',\n",
    "    popup='Haverford College',\n",
    "    fill = True,\n",
    "    fill_color = 'red',\n",
    "    fill_opacity = 0.6\n",
    ").add_to(venues_map)\n",
    "\n",
    "# add the Asian restaurants as blue circle markers\n",
    "for lat, lng, label in zip(dataframe_filtered.lat, dataframe_filtered.lng, dataframe_filtered.categories):\n",
    "    folium.features.CircleMarker(\n",
    "        [lat, lng],\n",
    "        radius=5,\n",
    "        color='blue',\n",
    "        popup=label,\n",
    "        fill = True,\n",
    "        fill_color='blue',\n",
    "        fill_opacity=0.6\n",
    "    ).add_to(venues_map)\n",
    "\n",
    "# display map\n",
    "venues_map"
   ]
  },
  {
   "cell_type": "markdown",
   "metadata": {},
   "source": [
    "2. Explore the three closest Asian restaurants "
   ]
  },
  {
   "cell_type": "markdown",
   "metadata": {},
   "source": [
    "a. Thai-Asian Specialty"
   ]
  },
  {
   "cell_type": "code",
   "execution_count": 58,
   "metadata": {},
   "outputs": [
    {
     "name": "stdout",
     "output_type": "stream",
     "text": [
      "dict_keys(['id', 'name', 'contact', 'location', 'canonicalUrl', 'categories', 'verified', 'stats', 'likes', 'dislike', 'ok', 'allowMenuUrlEdit', 'beenHere', 'specials', 'photos', 'reasons', 'hereNow', 'createdAt', 'tips', 'shortUrl', 'timeZone', 'listed', 'seasonalHours', 'pageUpdates', 'inbox', 'attributes'])\n"
     ]
    }
   ],
   "source": [
    "venue_id = '4f3217d819836c91c7b519b5' \n",
    "url = 'https://api.foursquare.com/v2/venues/{}?client_id={}&client_secret={}&v={}'.format(venue_id, CLIENT_ID, CLIENT_SECRET, VERSION)\n",
    "url\n",
    "result1 = requests.get(url).json()\n",
    "print(result1['response']['venue'].keys())"
   ]
  },
  {
   "cell_type": "code",
   "execution_count": 59,
   "metadata": {
    "scrolled": true
   },
   "outputs": [
    {
     "name": "stdout",
     "output_type": "stream",
     "text": [
      "This venue has not been rated yet.\n"
     ]
    }
   ],
   "source": [
    "#search rating\n",
    "result1['response']['venue']\n",
    "try:\n",
    "    print(result1['response']['venue']['rating'])\n",
    "except:\n",
    "    print('This venue has not been rated yet.')  # no rating"
   ]
  },
  {
   "cell_type": "code",
   "execution_count": 61,
   "metadata": {
    "scrolled": true
   },
   "outputs": [
    {
     "data": {
      "text/plain": [
       "0"
      ]
     },
     "execution_count": 61,
     "metadata": {},
     "output_type": "execute_result"
    }
   ],
   "source": [
    "#search tip\n",
    "result1['response']['venue']['tips']['count'] # no tip"
   ]
  },
  {
   "cell_type": "markdown",
   "metadata": {},
   "source": [
    "b. Asian Box Ardmore Farmers Market"
   ]
  },
  {
   "cell_type": "code",
   "execution_count": 48,
   "metadata": {
    "scrolled": true
   },
   "outputs": [
    {
     "name": "stdout",
     "output_type": "stream",
     "text": [
      "dict_keys(['id', 'name', 'contact', 'location', 'canonicalUrl', 'categories', 'verified', 'stats', 'price', 'likes', 'dislike', 'ok', 'allowMenuUrlEdit', 'beenHere', 'specials', 'photos', 'reasons', 'hereNow', 'createdAt', 'tips', 'shortUrl', 'timeZone', 'listed', 'seasonalHours', 'pageUpdates', 'inbox', 'parent', 'hierarchy', 'attributes', 'bestPhoto'])\n"
     ]
    }
   ],
   "source": [
    "venue_id = '4ddc126ec65bfd579e0abd65' \n",
    "url = 'https://api.foursquare.com/v2/venues/{}?client_id={}&client_secret={}&v={}'.format(venue_id, CLIENT_ID, CLIENT_SECRET, VERSION)\n",
    "url\n",
    "result2 = requests.get(url).json()\n",
    "print(result2['response']['venue'].keys())"
   ]
  },
  {
   "cell_type": "code",
   "execution_count": 49,
   "metadata": {},
   "outputs": [
    {
     "name": "stdout",
     "output_type": "stream",
     "text": [
      "This venue has not been rated yet.\n"
     ]
    }
   ],
   "source": [
    "#search rating\n",
    "result2['response']['venue']\n",
    "try:\n",
    "    print(result2['response']['venue']['rating'])\n",
    "except:\n",
    "    print('This venue has not been rated yet.')  #haven't been rated yet"
   ]
  },
  {
   "cell_type": "code",
   "execution_count": 50,
   "metadata": {},
   "outputs": [
    {
     "data": {
      "text/plain": [
       "0"
      ]
     },
     "execution_count": 50,
     "metadata": {},
     "output_type": "execute_result"
    }
   ],
   "source": [
    "#search tip\n",
    "result2['response']['venue']['tips']['count'] #no tip"
   ]
  },
  {
   "cell_type": "markdown",
   "metadata": {},
   "source": [
    "c.Green Papaya Asian Bistro (thai restaurant)"
   ]
  },
  {
   "cell_type": "code",
   "execution_count": 51,
   "metadata": {},
   "outputs": [
    {
     "name": "stdout",
     "output_type": "stream",
     "text": [
      "dict_keys(['id', 'name', 'contact', 'location', 'canonicalUrl', 'categories', 'verified', 'stats', 'price', 'likes', 'dislike', 'ok', 'allowMenuUrlEdit', 'beenHere', 'specials', 'photos', 'reasons', 'hereNow', 'createdAt', 'tips', 'shortUrl', 'timeZone', 'listed', 'seasonalHours', 'pageUpdates', 'inbox', 'attributes'])\n"
     ]
    }
   ],
   "source": [
    "venue_id = '5cd89175c876c8002c9c4189' \n",
    "url = 'https://api.foursquare.com/v2/venues/{}?client_id={}&client_secret={}&v={}'.format(venue_id, CLIENT_ID, CLIENT_SECRET, VERSION)\n",
    "url\n",
    "result3 = requests.get(url).json()\n",
    "print(result3['response']['venue'].keys())"
   ]
  },
  {
   "cell_type": "code",
   "execution_count": 52,
   "metadata": {},
   "outputs": [
    {
     "name": "stdout",
     "output_type": "stream",
     "text": [
      "This venue has not been rated yet.\n"
     ]
    }
   ],
   "source": [
    "#search rating\n",
    "result3['response']['venue']\n",
    "try:\n",
    "    print(result3['response']['venue']['rating'])\n",
    "except:\n",
    "    print('This venue has not been rated yet.')  #haven't been rated yet"
   ]
  },
  {
   "cell_type": "code",
   "execution_count": 53,
   "metadata": {},
   "outputs": [
    {
     "data": {
      "text/plain": [
       "0"
      ]
     },
     "execution_count": 53,
     "metadata": {},
     "output_type": "execute_result"
    }
   ],
   "source": [
    "#search tip\n",
    "result3['response']['venue']['tips']['count'] #no tip"
   ]
  },
  {
   "cell_type": "markdown",
   "metadata": {},
   "source": [
    "d. Sang Kee Asian Bistro"
   ]
  },
  {
   "cell_type": "code",
   "execution_count": 54,
   "metadata": {},
   "outputs": [
    {
     "name": "stdout",
     "output_type": "stream",
     "text": [
      "dict_keys(['id', 'name', 'contact', 'location', 'canonicalUrl', 'categories', 'verified', 'stats', 'url', 'price', 'hasMenu', 'likes', 'dislike', 'ok', 'rating', 'ratingColor', 'ratingSignals', 'menu', 'allowMenuUrlEdit', 'beenHere', 'specials', 'photos', 'reasons', 'hereNow', 'createdAt', 'tips', 'shortUrl', 'timeZone', 'listed', 'hours', 'popular', 'seasonalHours', 'defaultHours', 'pageUpdates', 'inbox', 'attributes', 'bestPhoto', 'colors'])\n"
     ]
    }
   ],
   "source": [
    "venue_id = '4ad750a6f964a5206c0921e3' \n",
    "url = 'https://api.foursquare.com/v2/venues/{}?client_id={}&client_secret={}&v={}'.format(venue_id, CLIENT_ID, CLIENT_SECRET, VERSION)\n",
    "url\n",
    "result4 = requests.get(url).json()\n",
    "print(result4['response']['venue'].keys())"
   ]
  },
  {
   "cell_type": "code",
   "execution_count": 55,
   "metadata": {},
   "outputs": [
    {
     "name": "stdout",
     "output_type": "stream",
     "text": [
      "8.4\n"
     ]
    }
   ],
   "source": [
    "#search rating\n",
    "result4['response']['venue']\n",
    "try:\n",
    "    print(result4['response']['venue']['rating'])\n",
    "except:\n",
    "    print('This venue has not been rated yet.')  # rating = 8.4"
   ]
  },
  {
   "cell_type": "code",
   "execution_count": 56,
   "metadata": {},
   "outputs": [
    {
     "data": {
      "text/plain": [
       "40"
      ]
     },
     "execution_count": 56,
     "metadata": {},
     "output_type": "execute_result"
    }
   ],
   "source": [
    "#search tip\n",
    "result4['response']['venue']['tips']['count'] #no tip"
   ]
  },
  {
   "cell_type": "code",
   "execution_count": 57,
   "metadata": {},
   "outputs": [
    {
     "data": {
      "text/html": [
       "<div>\n",
       "<style scoped>\n",
       "    .dataframe tbody tr th:only-of-type {\n",
       "        vertical-align: middle;\n",
       "    }\n",
       "\n",
       "    .dataframe tbody tr th {\n",
       "        vertical-align: top;\n",
       "    }\n",
       "\n",
       "    .dataframe thead th {\n",
       "        text-align: right;\n",
       "    }\n",
       "</style>\n",
       "<table border=\"1\" class=\"dataframe\">\n",
       "  <thead>\n",
       "    <tr style=\"text-align: right;\">\n",
       "      <th></th>\n",
       "      <th>text</th>\n",
       "      <th>agreeCount</th>\n",
       "      <th>disagreeCount</th>\n",
       "      <th>id</th>\n",
       "      <th>user.firstName</th>\n",
       "      <th>user.lastName</th>\n",
       "      <th>user.gender</th>\n",
       "      <th>user.id</th>\n",
       "    </tr>\n",
       "  </thead>\n",
       "  <tbody>\n",
       "    <tr>\n",
       "      <th>0</th>\n",
       "      <td>The wonton soup: amazing. Atmosphere: great. Service: excellent. Everything they serve is fresh and flavorful. This place is a hidden gem</td>\n",
       "      <td>2</td>\n",
       "      <td>0</td>\n",
       "      <td>581f59b7d67c728bb2c9f750</td>\n",
       "      <td>Morgan</td>\n",
       "      <td>M</td>\n",
       "      <td>NaN</td>\n",
       "      <td>185977772</td>\n",
       "    </tr>\n",
       "  </tbody>\n",
       "</table>\n",
       "</div>"
      ],
      "text/plain": [
       "                                                                                                                                        text  \\\n",
       "0  The wonton soup: amazing. Atmosphere: great. Service: excellent. Everything they serve is fresh and flavorful. This place is a hidden gem   \n",
       "\n",
       "   agreeCount  disagreeCount                        id user.firstName  \\\n",
       "0  2           0              581f59b7d67c728bb2c9f750  Morgan          \n",
       "\n",
       "  user.lastName  user.gender    user.id  \n",
       "0  M            NaN           185977772  "
      ]
     },
     "execution_count": 57,
     "metadata": {},
     "output_type": "execute_result"
    }
   ],
   "source": [
    "limit = 15 # set limit to be greater than or equal to the total number of tips\n",
    "url = 'https://api.foursquare.com/v2/venues/{}/tips?client_id={}&client_secret={}&v={}&limit={}'.format(venue_id, CLIENT_ID, CLIENT_SECRET, VERSION, limit)\n",
    "\n",
    "results44 = requests.get(url).json()\n",
    "tips4 = results44['response']['tips']['items']\n",
    "\n",
    "tip4 = results44['response']['tips']['items'][0]\n",
    "tip4.keys()\n",
    "pd.set_option('display.max_colwidth', -1)\n",
    "tips4_df = json_normalize(tips4)\n",
    "filtered_columns = ['text', 'agreeCount', 'disagreeCount', 'id', 'user.firstName', 'user.lastName', 'user.gender', 'user.id']\n",
    "tips4_filtered = tips4_df.loc[:, filtered_columns]\n",
    "\n",
    "tips4_filtered"
   ]
  },
  {
   "cell_type": "code",
   "execution_count": null,
   "metadata": {},
   "outputs": [],
   "source": []
  }
 ],
 "metadata": {
  "kernelspec": {
   "display_name": "Python 3.6",
   "language": "python",
   "name": "python3"
  },
  "language_info": {
   "codemirror_mode": {
    "name": "ipython",
    "version": 3
   },
   "file_extension": ".py",
   "mimetype": "text/x-python",
   "name": "python",
   "nbconvert_exporter": "python",
   "pygments_lexer": "ipython3",
   "version": "3.6.9"
  }
 },
 "nbformat": 4,
 "nbformat_minor": 1
}
